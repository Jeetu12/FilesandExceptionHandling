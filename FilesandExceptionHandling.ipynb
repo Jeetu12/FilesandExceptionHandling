{
  "nbformat": 4,
  "nbformat_minor": 0,
  "metadata": {
    "colab": {
      "provenance": []
    },
    "kernelspec": {
      "name": "python3",
      "display_name": "Python 3"
    },
    "language_info": {
      "name": "python"
    }
  },
  "cells": [
    {
      "cell_type": "markdown",
      "source": [
        "#**Files, exceptional handling, logging and**\n",
        "#**memory management Questions**\n",
        "\n",
        "### **1. What is the difference between interpreted and compiled languages?**\n",
        "\n",
        "Interpreted and compiled languages differ in how they execute code:\n",
        "\n",
        "| Feature           | Interpreted Language | Compiled Language |\n",
        "|------------------|-------------------|----------------|\n",
        "| **Execution**   | Executes code line by line | Converts entire code to machine language before execution |\n",
        "| **Speed**       | Slower, as translation happens at runtime | Faster, as execution happens after compilation |\n",
        "| **Error Handling** | Stops at first error, easier debugging | Detects errors before execution, requires recompilation |\n",
        "| **Examples**   | Python, JavaScript, Ruby | C, C++, Java (compiles to bytecode first) |\n"
      ],
      "metadata": {
        "id": "9MFw-BUaGK0f"
      }
    },
    {
      "cell_type": "markdown",
      "source": [
        "### **2. What is exception handling in Python?**  \n",
        "Exception handling in Python is a mechanism to handle runtime errors gracefully, preventing program crashes. It allows developers to anticipate potential errors and define how the program should respond.\n",
        "\n",
        "#### **Key Components of Exception Handling:**\n",
        "- `try`: Code block where the error might occur.\n",
        "- `except`: Handles the exception if an error occurs.\n",
        "- `else`: Executes if no exception occurs.\n",
        "- `finally`: Executes regardless of whether an exception occurs.\n",
        "\n",
        "#### **Example:**"
      ],
      "metadata": {
        "id": "nxCLbNoSZtyN"
      }
    },
    {
      "cell_type": "code",
      "source": [
        "try:\n",
        "    num = int(input(\"Enter a number: \"))\n",
        "    result = 10 / num\n",
        "    print(\"Result:\", result)\n",
        "except ZeroDivisionError:\n",
        "    print(\"Cannot divide by zero!\")\n",
        "except ValueError:\n",
        "    print(\"Invalid input! Please enter a number.\")\n",
        "finally:\n",
        "    print(\"Execution completed.\")\n"
      ],
      "metadata": {
        "colab": {
          "base_uri": "https://localhost:8080/"
        },
        "id": "T0CEdy3XaEaN",
        "outputId": "712d629f-295c-4e87-d5e8-d49d433f77ae"
      },
      "execution_count": null,
      "outputs": [
        {
          "output_type": "stream",
          "name": "stdout",
          "text": [
            "Enter a number: 0\n",
            "Cannot divide by zero!\n",
            "Execution completed.\n"
          ]
        }
      ]
    },
    {
      "cell_type": "markdown",
      "source": [
        "3. What is the purpose of the finally block in exception handling?\n",
        "\n",
        "- The finally block is used to execute code that must run regardless of whether an exception occurs. It is typically used for resource cleanup, such as closing files or releasing memory.\n",
        "\n",
        "Example:"
      ],
      "metadata": {
        "id": "FG3z-YIFaZUV"
      }
    },
    {
      "cell_type": "code",
      "source": [
        "try:\n",
        "    file = open(\"example.txt\", \"r\")\n",
        "    data = file.read()\n",
        "    print(data)\n",
        "except FileNotFoundError:\n",
        "    print(\"File not found!\")\n",
        "finally:\n",
        "    file.close()  # Ensures the file is always closed\n",
        "    print(\"File closed.\")\n"
      ],
      "metadata": {
        "id": "InwynQHObdo5"
      },
      "execution_count": null,
      "outputs": []
    },
    {
      "cell_type": "markdown",
      "source": [
        "4. What is logging in Python?\n",
        "\n",
        "- Logging in Python is a way to track events during program execution, making debugging and monitoring easier.\n",
        "\n",
        "Example:"
      ],
      "metadata": {
        "id": "Qhe31xQ3bk5s"
      }
    },
    {
      "cell_type": "code",
      "source": [
        "import logging\n",
        "\n",
        "logging.basicConfig(level=logging.INFO)\n",
        "logging.info(\"This is an info message\")\n",
        "logging.warning(\"This is a warning\")\n",
        "logging.error(\"This is an error\")\n"
      ],
      "metadata": {
        "colab": {
          "base_uri": "https://localhost:8080/"
        },
        "id": "rSigyYeJbux4",
        "outputId": "1d497e69-8f72-4aaf-86eb-6afbd1a7e529"
      },
      "execution_count": null,
      "outputs": [
        {
          "output_type": "stream",
          "name": "stderr",
          "text": [
            "WARNING:root:This is a warning\n",
            "ERROR:root:This is an error\n"
          ]
        }
      ]
    },
    {
      "cell_type": "markdown",
      "source": [
        "5. What is the significance of the __del__ method in Python?\n",
        "\n",
        "- The __del__ method is a destructor called when an object is deleted or garbage collected. It is used for cleanup tasks.\n",
        "\n",
        "Example:"
      ],
      "metadata": {
        "id": "gaTO5yigcKGF"
      }
    },
    {
      "cell_type": "code",
      "source": [
        "class Example:\n",
        "    def __del__(self):\n",
        "        print(\"Object is being deleted.\")\n",
        "\n",
        "obj = Example()\n",
        "del obj  # Calls __del__()\n"
      ],
      "metadata": {
        "colab": {
          "base_uri": "https://localhost:8080/"
        },
        "id": "1R8aHwp4cPxB",
        "outputId": "3960b768-5951-4b2a-a3f1-a51b92c888e8"
      },
      "execution_count": null,
      "outputs": [
        {
          "output_type": "stream",
          "name": "stdout",
          "text": [
            "Object is being deleted.\n"
          ]
        }
      ]
    },
    {
      "cell_type": "markdown",
      "source": [
        "6. What is the difference between import and from ... import in Python?\n",
        "\n",
        "- The import statement and the from ... import statement in Python serve different purposes in how they bring modules and their contents into the current scope.\n",
        "\n",
        "  - **import module_name:**\n",
        "This statement imports the entire module. To access functions or classes within the module, you need to use the module name as a prefix (e.g., module_name.function_name()).\n",
        "\n",
        "  - **from module_name import item_name:**\n",
        "This statement imports specific items (like functions, classes, or variables) directly from the module. You can then use these items without the module name prefix (e.g., function_name()).\n",
        "\n"
      ],
      "metadata": {
        "id": "71KMbv73cbhw"
      }
    },
    {
      "cell_type": "code",
      "source": [
        "# Using import\n",
        "import math\n",
        "result_sqrt = math.sqrt(25)\n",
        "\n",
        "# Using from ... import\n",
        "from math import sqrt\n",
        "result_sqrt = sqrt(25)"
      ],
      "metadata": {
        "id": "IwTp43M1dtcU"
      },
      "execution_count": null,
      "outputs": []
    },
    {
      "cell_type": "markdown",
      "source": [
        "- **While from ... import * might seem convenient, it's generally discouraged because it can lead to namespace collisions and make code harder to understand. It's best to import only the specific items you need or to import the entire module and use the module name as a prefix for clarity.**"
      ],
      "metadata": {
        "id": "4A6Vdrgvd7oH"
      }
    },
    {
      "cell_type": "markdown",
      "source": [
        "7. How can you handle multiple exceptions in Python?\n",
        "\n",
        "- You can handle multiple exceptions using multiple except blocks or a single except with a tuple.\n",
        "\n",
        "Example:"
      ],
      "metadata": {
        "id": "P6AYJdR3ep_u"
      }
    },
    {
      "cell_type": "code",
      "source": [
        "try:\n",
        "    num = int(input(\"Enter a number: \"))\n",
        "    result = 10 / num\n",
        "except (ZeroDivisionError, ValueError) as e:\n",
        "    print(f\"Error occurred: {e}\")\n"
      ],
      "metadata": {
        "colab": {
          "base_uri": "https://localhost:8080/"
        },
        "id": "M0snxlPhOK6-",
        "outputId": "f20a9a82-ad43-486d-92a3-41cf98494980"
      },
      "execution_count": null,
      "outputs": [
        {
          "output_type": "stream",
          "name": "stdout",
          "text": [
            "Enter a number: 0\n",
            "Error occurred: division by zero\n"
          ]
        }
      ]
    },
    {
      "cell_type": "markdown",
      "source": [
        "8. What is the purpose of the with statement when handling files in Python?\n",
        "\n",
        "- The with statement automatically closes files after use, preventing resource leaks.\n",
        "\n",
        "Example:"
      ],
      "metadata": {
        "id": "WAzmGjToOiZH"
      }
    },
    {
      "cell_type": "code",
      "source": [
        "with open(\"example.txt\", \"r\") as file:\n",
        "    data = file.read()\n",
        "print(\"File automatically closed.\")\n"
      ],
      "metadata": {
        "id": "HYHF1rzKOuqX"
      },
      "execution_count": null,
      "outputs": []
    },
    {
      "cell_type": "markdown",
      "source": [
        "9. What is the difference between multithreading and multiprocessing?\n",
        "\n",
        "- Both multiprocessing and multithreading are used in computer operating systems to increase its computing power. The fundamental difference between multiprocessing and multithreading is that multiprocessing makes the use of two or more CPUs to increase the computing power of the system, while multithreading creates multiple threads of a process to be executed in a parallel fashion to increase the throughput of the system.\n",
        "\n",
        "- The most significant difference between multiprocessing and multithreading is that multiprocessing executes many processes at the same time, whereas multithreading executes many threads of a process at the same time."
      ],
      "metadata": {
        "id": "XaII7UhcOvrV"
      }
    },
    {
      "cell_type": "markdown",
      "source": [
        "10. What are the advantages of using logging in a program?\n",
        "\n",
        "- The advantages of using logging in a program are as follows:-\n",
        "\n",
        "  - Helps in debugging and tracking program flow.\n",
        "  - Records important events/errors.\n",
        "  - Provides different logging levels (INFO, WARNING, ERROR)."
      ],
      "metadata": {
        "id": "ld9Z6fIaPqrI"
      }
    },
    {
      "cell_type": "markdown",
      "source": [
        "11. What is memory management in Python?\n",
        "\n",
        "- Python uses automatic memory management with techniques like reference counting and garbage collection."
      ],
      "metadata": {
        "id": "D6HB75ufQDrK"
      }
    },
    {
      "cell_type": "markdown",
      "source": [
        "12. What are the basic steps involved in exception handling in Python?\n",
        "\n",
        "- The basic steps involved in exception handling in Python are:-\n",
        "\n",
        "  - Try Block: Wraps code that may cause an error.\n",
        "  - Except Block: Handles exceptions that occur.\n",
        "  - Else Block (Optional): Runs if no exceptions occur.\n",
        "  - Finally Block (Optional): Executes cleanup code."
      ],
      "metadata": {
        "id": "SCHvrthVQmXh"
      }
    },
    {
      "cell_type": "markdown",
      "source": [
        "13. Why is memory management important in Python?\n",
        "\n",
        "- Memory management is important in Python because:-\n",
        "\n",
        "  - Prevents memory leaks.\n",
        "  - Optimizes performance.\n",
        "  - Automatically reclaims unused memory.\n"
      ],
      "metadata": {
        "id": "2mBIvL6bQ6NA"
      }
    },
    {
      "cell_type": "markdown",
      "source": [
        "14. What is the role of try and except in exception handling?\n",
        "\n",
        "- The try block contains code that may cause an exception, while the except block catches and handles the exception."
      ],
      "metadata": {
        "id": "fl1fH7dDRQ5W"
      }
    },
    {
      "cell_type": "markdown",
      "source": [
        "15. How does Python's garbage collection system work?\n",
        "\n",
        "- Uses reference counting (deletes objects when references reach zero).\n",
        "- Uses generational garbage collection to manage objects efficiently."
      ],
      "metadata": {
        "id": "nnpRVOEjRaO9"
      }
    },
    {
      "cell_type": "markdown",
      "source": [
        "16. What is the purpose of the else block in exception handling?\n",
        "\n",
        "- The else block runs only if no exceptions occur in the try block.\n",
        "\n",
        "Example:"
      ],
      "metadata": {
        "id": "ySoMCODYRoDU"
      }
    },
    {
      "cell_type": "code",
      "source": [
        "try:\n",
        "    num = int(input(\"Enter a number: \"))\n",
        "    print(\"Valid number entered!\")\n",
        "except ValueError:\n",
        "    print(\"Invalid input!\")\n",
        "else:\n",
        "    print(\"No exceptions occurred.\")\n"
      ],
      "metadata": {
        "colab": {
          "base_uri": "https://localhost:8080/"
        },
        "id": "x89eI2yFRtQb",
        "outputId": "32af46b1-83ec-4d27-bb20-02515400fbbd"
      },
      "execution_count": null,
      "outputs": [
        {
          "output_type": "stream",
          "name": "stdout",
          "text": [
            "Enter a number: 27\n",
            "Valid number entered!\n",
            "No exceptions occurred.\n"
          ]
        }
      ]
    },
    {
      "cell_type": "markdown",
      "source": [
        "17. What are the common logging levels in Python?\n",
        "\n",
        "- The common logging levels in Python are as follows:-\n",
        "\n",
        "  - DEBUG (Lowest)\n",
        "  - INFO\n",
        "  - WARNING\n",
        "  - ERROR\n",
        "  - CRITICAL (Highest)"
      ],
      "metadata": {
        "id": "zkS5d-h1SQvf"
      }
    },
    {
      "cell_type": "markdown",
      "source": [
        "18. What is the difference between os.fork() and multiprocessing in Python?\n",
        "\n",
        "- os.fork() creates a child process by duplicating the parent.\n",
        "\n",
        "- Multiprocessing provides a higher-level API for managing multiple processes.\n"
      ],
      "metadata": {
        "id": "j1Bh5BvTSjQe"
      }
    },
    {
      "cell_type": "markdown",
      "source": [
        "19. What is the importance of closing a file in Python?\n",
        "\n",
        "- Closing a file releases system resources and prevents data loss."
      ],
      "metadata": {
        "id": "NzTJb9PjSwif"
      }
    },
    {
      "cell_type": "markdown",
      "source": [
        "20. What is the difference between file.read() and file.readline() in Python?\n",
        "\n",
        "- file.read() :\tReads the entire file as a string.\n",
        "- file.readline()\t: Reads only one line at a time."
      ],
      "metadata": {
        "id": "82JhdL-rS78s"
      }
    },
    {
      "cell_type": "markdown",
      "source": [
        "21. What is the logging module in Python used for?\n",
        "\n",
        "- The logging module in Python is used to track events and errors in applications.\n",
        "\n"
      ],
      "metadata": {
        "id": "eoza0yn_TLjJ"
      }
    },
    {
      "cell_type": "markdown",
      "source": [
        "22. What is the os module in Python used for in file handling?\n",
        "\n",
        "- It allows interaction with the operating system, such as file and directory management."
      ],
      "metadata": {
        "id": "DtNFh1rCTVgz"
      }
    },
    {
      "cell_type": "markdown",
      "source": [
        "23. What are the challenges associated with memory management in Python?\n",
        "\n",
        "- The challenges associated with memory management in Python are:-\n",
        "\n",
        "  - High memory usage for large objects.\n",
        "  - Garbage collection overhead.\n",
        "  - Memory fragmentation."
      ],
      "metadata": {
        "id": "UaRacDROTdBM"
      }
    },
    {
      "cell_type": "markdown",
      "source": [
        "24. How do you raise an exception manually in Python?\n",
        "\n",
        "- Using the raise keyword.\n",
        "\n",
        "Example:"
      ],
      "metadata": {
        "id": "MGD4XvuFTtbR"
      }
    },
    {
      "cell_type": "code",
      "source": [
        "raise ValueError(\"Invalid value!\")\n"
      ],
      "metadata": {
        "id": "52DWYS0dT0S9"
      },
      "execution_count": null,
      "outputs": []
    },
    {
      "cell_type": "markdown",
      "source": [
        "25. Why is it important to use multithreading in certain applications?\n",
        "\n",
        "- Speeds up I/O-bound tasks.\n",
        "- Improves user experience in GUI applications."
      ],
      "metadata": {
        "id": "MLeAEXx7T7uy"
      }
    },
    {
      "cell_type": "markdown",
      "source": [
        "# **Practical Questions**\n",
        "\n",
        "1. How can you open a file for writing in Python and write a string to it?"
      ],
      "metadata": {
        "id": "mJT9oQgXUDjI"
      }
    },
    {
      "cell_type": "code",
      "source": [
        "with open(\"output.txt\", \"w\") as file:\n",
        "    file.write(\"Hello, World!\")\n"
      ],
      "metadata": {
        "id": "EuBZW9w2UQN_"
      },
      "execution_count": null,
      "outputs": []
    },
    {
      "cell_type": "markdown",
      "source": [
        "2. Write a Python program to read the contents of a file and print each line.\n"
      ],
      "metadata": {
        "id": "jF2JaT62UWZ5"
      }
    },
    {
      "cell_type": "code",
      "source": [
        "with open(\"example.txt\", \"r\") as file:\n",
        "    for line in file:\n",
        "        print(line.strip())\n"
      ],
      "metadata": {
        "id": "CgU9P5kDUaHm"
      },
      "execution_count": null,
      "outputs": []
    },
    {
      "cell_type": "markdown",
      "source": [
        "3. How would you handle a case where the file doesn't exist while trying to open it?"
      ],
      "metadata": {
        "id": "ZFgkI8reUgHx"
      }
    },
    {
      "cell_type": "code",
      "source": [
        "try:\n",
        "    with open(\"nonexistent.txt\", \"r\") as file:\n",
        "        data = file.read()\n",
        "except FileNotFoundError:\n",
        "    print(\"File not found!\")\n"
      ],
      "metadata": {
        "id": "3mjsq5fKUjdQ"
      },
      "execution_count": null,
      "outputs": []
    },
    {
      "cell_type": "markdown",
      "source": [
        "4. Write a Python script that reads from one file and writes its content to another file."
      ],
      "metadata": {
        "id": "afYxSe3hUn93"
      }
    },
    {
      "cell_type": "code",
      "source": [
        "with open(\"source.txt\", \"r\") as src, open(\"destination.txt\", \"w\") as dest:\n",
        "    dest.write(src.read())\n"
      ],
      "metadata": {
        "id": "YdhYX4E4U6M4"
      },
      "execution_count": null,
      "outputs": []
    },
    {
      "cell_type": "markdown",
      "source": [
        "5. How would you catch and handle a division by zero error in Python?"
      ],
      "metadata": {
        "id": "_REF7J3ZVAml"
      }
    },
    {
      "cell_type": "code",
      "source": [
        "try:\n",
        "    result = 10 / 0\n",
        "except ZeroDivisionError:\n",
        "    print(\"Cannot divide by zero!\")\n"
      ],
      "metadata": {
        "id": "XUqOSJ33VEZ6"
      },
      "execution_count": null,
      "outputs": []
    },
    {
      "cell_type": "markdown",
      "source": [
        "6. Write a Python program that logs an error message to a log file when a division by zero exception occurs."
      ],
      "metadata": {
        "id": "OtTU39gVVI7g"
      }
    },
    {
      "cell_type": "code",
      "source": [
        "import logging\n",
        "\n",
        "logging.basicConfig(filename=\"error.log\", level=logging.ERROR)\n",
        "\n",
        "try:\n",
        "    result = 10 / 0\n",
        "except ZeroDivisionError:\n",
        "    logging.error(\"Attempted division by zero\")\n",
        "    print(\"Cannot divide by zero! Error logged.\")\n"
      ],
      "metadata": {
        "id": "RFdfk8jQVTgJ"
      },
      "execution_count": null,
      "outputs": []
    },
    {
      "cell_type": "markdown",
      "source": [
        "7. How do you log information at different levels (INFO, ERROR, WARNING) in Python using the logging module?"
      ],
      "metadata": {
        "id": "slolXxaoVih2"
      }
    },
    {
      "cell_type": "code",
      "source": [
        "import logging\n",
        "\n",
        "logging.basicConfig(level=logging.DEBUG)\n",
        "\n",
        "logging.debug(\"This is a debug message\")\n",
        "logging.info(\"This is an info message\")\n",
        "logging.warning(\"This is a warning\")\n",
        "logging.error(\"This is an error\")\n",
        "logging.critical(\"This is critical\")\n"
      ],
      "metadata": {
        "id": "QeCKuQyrVpoY"
      },
      "execution_count": null,
      "outputs": []
    },
    {
      "cell_type": "markdown",
      "source": [
        "8. Write a program to handle a file opening error using exception handling."
      ],
      "metadata": {
        "id": "Ddp-8ax7VvIr"
      }
    },
    {
      "cell_type": "code",
      "source": [
        "try:\n",
        "    with open(\"nonexistent.txt\", \"r\") as file:\n",
        "        data = file.read()\n",
        "except FileNotFoundError:\n",
        "    print(\"File not found! Please check the filename.\")\n"
      ],
      "metadata": {
        "id": "3SolmGyrVyvV"
      },
      "execution_count": null,
      "outputs": []
    },
    {
      "cell_type": "markdown",
      "source": [
        "9. How can you read a file line by line and store its content in a list in Python?"
      ],
      "metadata": {
        "id": "VDtT_2bfV2qw"
      }
    },
    {
      "cell_type": "code",
      "source": [
        "with open(\"example.txt\", \"r\") as file:\n",
        "    lines = file.readlines()\n",
        "\n",
        "print(lines)\n"
      ],
      "metadata": {
        "id": "Zyjddl7WV6eh"
      },
      "execution_count": null,
      "outputs": []
    },
    {
      "cell_type": "markdown",
      "source": [
        "10. How can you append data to an existing file in Python?"
      ],
      "metadata": {
        "id": "gJh1L4ZHV8eV"
      }
    },
    {
      "cell_type": "code",
      "source": [
        "with open(\"example.txt\", \"a\") as file:\n",
        "    file.write(\"\\nAppended text.\")\n"
      ],
      "metadata": {
        "id": "bEUBZxukWAHB"
      },
      "execution_count": null,
      "outputs": []
    },
    {
      "cell_type": "markdown",
      "source": [
        "11. Write a Python program that uses a try-except block to handle an error when attempting to access a dictionary key that doesn't exist."
      ],
      "metadata": {
        "id": "fd8QmG7tWDoR"
      }
    },
    {
      "cell_type": "code",
      "source": [
        "try:\n",
        "    my_dict = {\"name\": \"Alice\"}\n",
        "    print(my_dict[\"age\"])\n",
        "except KeyError:\n",
        "    print(\"Key not found in dictionary!\")\n"
      ],
      "metadata": {
        "id": "VWoojE2zWHz-"
      },
      "execution_count": null,
      "outputs": []
    },
    {
      "cell_type": "markdown",
      "source": [
        "12. Write a program that demonstrates using multiple except blocks to handle different types of exceptions."
      ],
      "metadata": {
        "id": "MFZmITV_WJw8"
      }
    },
    {
      "cell_type": "code",
      "source": [
        "try:\n",
        "    num = int(input(\"Enter a number: \"))\n",
        "    result = 10 / num\n",
        "except ZeroDivisionError:\n",
        "    print(\"Cannot divide by zero!\")\n",
        "except ValueError:\n",
        "    print(\"Invalid input! Please enter a valid number.\")\n"
      ],
      "metadata": {
        "id": "xMLbkHaLWNpv"
      },
      "execution_count": null,
      "outputs": []
    },
    {
      "cell_type": "markdown",
      "source": [
        "13. How would you check if a file exists before attempting to read it in Python?"
      ],
      "metadata": {
        "id": "zB9GegJdWPxg"
      }
    },
    {
      "cell_type": "code",
      "source": [
        "import os\n",
        "\n",
        "if os.path.exists(\"example.txt\"):\n",
        "    with open(\"example.txt\", \"r\") as file:\n",
        "        print(file.read())\n",
        "else:\n",
        "    print(\"File does not exist!\")\n"
      ],
      "metadata": {
        "id": "ZAz9m1l5WTg7"
      },
      "execution_count": null,
      "outputs": []
    },
    {
      "cell_type": "markdown",
      "source": [
        "14. Write a program that uses the logging module to log both informational and error messages."
      ],
      "metadata": {
        "id": "RvFTyLy3WVjl"
      }
    },
    {
      "cell_type": "code",
      "source": [
        "import logging\n",
        "\n",
        "logging.basicConfig(filename=\"app.log\", level=logging.INFO)\n",
        "\n",
        "logging.info(\"Program started successfully\")\n",
        "\n",
        "try:\n",
        "    num = 10 / 0\n",
        "except ZeroDivisionError:\n",
        "    logging.error(\"Division by zero error occurred\")\n"
      ],
      "metadata": {
        "id": "VsvceDs5X1ZB"
      },
      "execution_count": null,
      "outputs": []
    },
    {
      "cell_type": "markdown",
      "source": [
        "15. Write a Python program that prints the content of a file and handles the case when the file is empty."
      ],
      "metadata": {
        "id": "XhNdxE4vX5zh"
      }
    },
    {
      "cell_type": "code",
      "source": [
        "with open(\"example.txt\", \"r\") as file:\n",
        "    content = file.read()\n",
        "    if not content:\n",
        "        print(\"The file is empty.\")\n",
        "    else:\n",
        "        print(content)\n"
      ],
      "metadata": {
        "id": "tGWZuploX9sy"
      },
      "execution_count": null,
      "outputs": []
    },
    {
      "cell_type": "markdown",
      "source": [
        "16. Demonstrate how to use memory profiling to check the memory usage of a small program."
      ],
      "metadata": {
        "id": "4ZEU5h_yX_nF"
      }
    },
    {
      "cell_type": "code",
      "source": [
        "from memory_profiler import profile\n",
        "\n",
        "@profile\n",
        "def my_function():\n",
        "    arr = [i for i in range(100000)]\n",
        "    return arr\n",
        "\n",
        "my_function()\n"
      ],
      "metadata": {
        "id": "0O20d7v9YDc9"
      },
      "execution_count": null,
      "outputs": []
    },
    {
      "cell_type": "markdown",
      "source": [
        "17. Write a Python program to create and write a list of numbers to a file, one number per line."
      ],
      "metadata": {
        "id": "NZv33jnZYFuE"
      }
    },
    {
      "cell_type": "code",
      "source": [
        "numbers = [1, 2, 3, 4, 5]\n",
        "\n",
        "with open(\"numbers.txt\", \"w\") as file:\n",
        "    for num in numbers:\n",
        "        file.write(f\"{num}\\n\")\n"
      ],
      "metadata": {
        "id": "ZIe3EgQPYQG5"
      },
      "execution_count": null,
      "outputs": []
    },
    {
      "cell_type": "markdown",
      "source": [
        "18. How would you implement a basic logging setup that logs to a file with rotation after 1MB?"
      ],
      "metadata": {
        "id": "sKwJ_PeMYSP_"
      }
    },
    {
      "cell_type": "code",
      "source": [
        "import logging\n",
        "from logging.handlers import RotatingFileHandler\n",
        "\n",
        "handler = RotatingFileHandler(\"app.log\", maxBytes=1048576, backupCount=3)\n",
        "logging.basicConfig(handlers=[handler], level=logging.INFO)\n",
        "\n",
        "logging.info(\"This is a rotating log entry.\")\n"
      ],
      "metadata": {
        "id": "bCDnaOe-YV_1"
      },
      "execution_count": null,
      "outputs": []
    },
    {
      "cell_type": "markdown",
      "source": [
        "19. Write a program that handles both IndexError and KeyError using a try-except block."
      ],
      "metadata": {
        "id": "W7uY1BHDYZR7"
      }
    },
    {
      "cell_type": "code",
      "source": [
        "try:\n",
        "    my_list = [1, 2, 3]\n",
        "    print(my_list[5])  # IndexError\n",
        "\n",
        "    my_dict = {\"a\": 1}\n",
        "    print(my_dict[\"b\"])  # KeyError\n",
        "except IndexError:\n",
        "    print(\"Index out of range!\")\n",
        "except KeyError:\n",
        "    print(\"Key not found in dictionary!\")\n"
      ],
      "metadata": {
        "id": "j3F0E1nuYdPT"
      },
      "execution_count": null,
      "outputs": []
    },
    {
      "cell_type": "markdown",
      "source": [
        "20. How would you open a file and read its contents using a context manager in Python?"
      ],
      "metadata": {
        "id": "P-JQ-hLDYfuQ"
      }
    },
    {
      "cell_type": "code",
      "source": [
        "with open(\"example.txt\", \"r\") as file:\n",
        "    print(file.read())\n"
      ],
      "metadata": {
        "id": "n9bmHg53Yi6D"
      },
      "execution_count": null,
      "outputs": []
    },
    {
      "cell_type": "markdown",
      "source": [
        "21. Write a Python program that reads a file and prints the number of occurrences of a specific word."
      ],
      "metadata": {
        "id": "PdoAOYiMYko3"
      }
    },
    {
      "cell_type": "code",
      "source": [
        "word_to_count = \"Python\"\n",
        "\n",
        "with open(\"example.txt\", \"r\") as file:\n",
        "    content = file.read()\n",
        "    count = content.count(word_to_count)\n",
        "\n",
        "print(f\"'{word_to_count}' appears {count} times.\")\n"
      ],
      "metadata": {
        "id": "aOE6vyj5Yo7a"
      },
      "execution_count": null,
      "outputs": []
    },
    {
      "cell_type": "markdown",
      "source": [
        "22. How can you check if a file is empty before attempting to read its contents?"
      ],
      "metadata": {
        "id": "D91SVEbiYrAq"
      }
    },
    {
      "cell_type": "code",
      "source": [
        "import os\n",
        "\n",
        "if os.path.exists(\"example.txt\") and os.stat(\"example.txt\").st_size == 0:\n",
        "    print(\"The file is empty.\")\n",
        "else:\n",
        "    with open(\"example.txt\", \"r\") as file:\n",
        "        print(file.read())\n"
      ],
      "metadata": {
        "id": "m8wGxSGVYuV7"
      },
      "execution_count": null,
      "outputs": []
    },
    {
      "cell_type": "markdown",
      "source": [
        "23. Write a Python program that writes to a log file when an error occurs during file handling."
      ],
      "metadata": {
        "id": "nPzQc6j9YyjN"
      }
    },
    {
      "cell_type": "code",
      "source": [
        "import logging\n",
        "\n",
        "logging.basicConfig(filename=\"file_error.log\", level=logging.ERROR)\n",
        "\n",
        "try:\n",
        "    with open(\"nonexistent.txt\", \"r\") as file:\n",
        "        content = file.read()\n",
        "except FileNotFoundError:\n",
        "    logging.error(\"File not found error occurred\")\n",
        "    print(\"Error logged.\")\n"
      ],
      "metadata": {
        "id": "oJ6eAq6JY3T8"
      },
      "execution_count": null,
      "outputs": []
    }
  ]
}